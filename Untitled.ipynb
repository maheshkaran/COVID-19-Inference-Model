{
 "cells": [
  {
   "cell_type": "markdown",
   "metadata": {},
   "source": [
    "## The COVID-19 Model\n",
    "\n",
    "According to the method outlined in the paper \"Inferring change points in the spread of COVID-19 reveals the effectivencess of interventions\" by Dehning, Zierenberg, et. al., we use assume a standard SIR model with a new equation that accounts for the delay between _true_ infections at time _t_ and _reported_ infections at time _t_ (which we will call the reporting delay _D_) and the sinusoidal modulation of cases over a given week. In the following implementation, we only consider a stationary infection rate.\n",
    "\n",
    "We implement the PINTS model below:\n"
   ]
  },
  {
   "cell_type": "code",
   "execution_count": 1,
   "metadata": {},
   "outputs": [],
   "source": [
    "from __future__ import print_function\n",
    "\n",
    "import pints\n",
    "\n",
    "import numpy as np\n",
    "import matplotlib.pyplot as plt\n",
    "from scipy.integrate import odeint\n",
    "import math\n",
    "from scipy.stats import vonmises\n",
    "\n",
    "class covidInferenceModel (pints.ForwardModel):\n",
    "    \n",
    "    def simulate(self, parameters, times):\n",
    "\n",
    "        \n",
    "        def SIRDiffEq (y, t, N, lam, mu):\n",
    "            #This equation describes the differential equations of the SIR model and takes in parameters:\n",
    "                #N: population size\n",
    "                #lam: lambda, the rate of disease spread\n",
    "                #mu: rate at which infected persons recover\n",
    "            \n",
    "            S, I, R = y\n",
    "            \n",
    "            dSdt = -lam * S * I / N\n",
    "            dIdt = (lam * S * I / N) - (mu * I)\n",
    "            dRdt = mu * I\n",
    "            \n",
    "            return dSdt, dIdt, dRdt\n",
    "        \n",
    "        def newReportedCasesEqn (t, f_w, phi_w, delay, I0, N, lam, mu):\n",
    "            #delay between new infections and new cases of infections reported with parameters:\n",
    "                #f_w: weekly modulation amplitude\n",
    "                #phi_w: weekly modulation phase\n",
    "                #delay: time it takes to report cases (initial cases reported when t>D)\n",
    "                #I0: number of initally infected at t=0\n",
    "                #N: population size\n",
    "                #lam: lambda, the rate of disease spread\n",
    "                #mu: rate at which infected persons recover\n",
    "                     \n",
    "            \n",
    "            #at t=0, finding infected and recovered populations, initially recovered is 0\n",
    "            casesArray = odeint(SIRDiffEq, [S0,I0,0], t, args=(N, lam, mu))\n",
    "            infectedArray = np.array(casesArray[1])\n",
    "            recoveredArray = np.array(casesArray[2])\n",
    "            \n",
    "            newInfectedCases = np.diff(infectedArray)   \n",
    "        \n",
    "    def n_parameters(self):\n",
    "        return 3\n",
    "    \n",
    "covidModel = covidInferenceModel()\n"
   ]
  },
  {
   "cell_type": "markdown",
   "metadata": {},
   "source": [
    "Next, we retrieve the data from the JHU repository over the selected time interval and construct a single output problem in PINTS:"
   ]
  },
  {
   "cell_type": "code",
   "execution_count": null,
   "metadata": {},
   "outputs": [],
   "source": [
    "#insert data retrieval method here and give array of times\n",
    "\n",
    "problem = pints.SingleOutputProblem(covidModel, times, values)"
   ]
  },
  {
   "cell_type": "markdown",
   "metadata": {},
   "source": [
    "We have the following list of parameters to be estimated:\n",
    "$$\n",
    "\\theta = [ \\lambda, \\mu, D, I_0, f_w, \\phi_w,\\sigma]\n",
    "$$\n",
    "\n",
    "where \\\\(\\sigma \\\\) is the scale width factor to the likelihood distribution. Below, we describe the likelihood for the data given the parameters, \\\\(p(\\hat C| \\theta)\\\\), as a Student-T distribution with 4 degrees of freedom."
   ]
  },
  {
   "cell_type": "code",
   "execution_count": null,
   "metadata": {},
   "outputs": [],
   "source": []
  },
  {
   "cell_type": "markdown",
   "metadata": {},
   "source": [
    "Next, we define the prior distribution for each of the parameters to be estimated:"
   ]
  },
  {
   "cell_type": "code",
   "execution_count": null,
   "metadata": {},
   "outputs": [],
   "source": [
    "lamda_prior = pints.LogNormalLogPrior(math.log10(0.4),0.5) # lamda has Log-Normal prior\n",
    "mu_prior = pints.LogNormalLogPrior(math.log10(1/8),0.2) # mu has Log-Normal prior\n",
    "delay_prior = pints.LogNormalLogPrior(math.log10(8),0.2) # D has Log-Normal prior\n",
    "initInfected_prior = pints.HalfCauchyLogPrior(0,100) # I0 has Half-Cauchy prior\n",
    "scaleWidth_prior = pints.HalfCauchyLogPrior(0,10) # sigma has Half-Cauchy prior\n",
    "fw_prior = pints.BetaLogPrior(0.7, 0.17) # f_w has Beta prior\n",
    "phi_prior = vonmises.pdf(0,0.01) # phi_w has Von Mises prior"
   ]
  }
 ],
 "metadata": {
  "kernelspec": {
   "display_name": "Python 3",
   "language": "python",
   "name": "python3"
  },
  "language_info": {
   "codemirror_mode": {
    "name": "ipython",
    "version": 3
   },
   "file_extension": ".py",
   "mimetype": "text/x-python",
   "name": "python",
   "nbconvert_exporter": "python",
   "pygments_lexer": "ipython3",
   "version": "3.7.6"
  }
 },
 "nbformat": 4,
 "nbformat_minor": 4
}
